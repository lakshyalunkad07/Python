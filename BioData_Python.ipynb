{
  "nbformat": 4,
  "nbformat_minor": 0,
  "metadata": {
    "colab": {
      "provenance": [],
      "authorship_tag": "ABX9TyNH7JDF4JieoBuJpS4Tv5xO",
      "include_colab_link": true
    },
    "kernelspec": {
      "name": "python3",
      "display_name": "Python 3"
    },
    "language_info": {
      "name": "python"
    }
  },
  "cells": [
    {
      "cell_type": "markdown",
      "metadata": {
        "id": "view-in-github",
        "colab_type": "text"
      },
      "source": [
        "<a href=\"https://colab.research.google.com/github/lakshyalunkad07/Python/blob/main/BioData_Python.ipynb\" target=\"_parent\"><img src=\"https://colab.research.google.com/assets/colab-badge.svg\" alt=\"Open In Colab\"/></a>"
      ]
    },
    {
      "cell_type": "code",
      "execution_count": null,
      "metadata": {
        "colab": {
          "base_uri": "https://localhost:8080/"
        },
        "id": "S2Pf77LAFxSv",
        "outputId": "d9b8d997-40db-4e96-f02b-8c8c4cf500e2"
      },
      "outputs": [
        {
          "output_type": "stream",
          "name": "stdout",
          "text": [
            "Enter your name\n",
            "Lakshya Lunkad \n",
            "Enter your Sap Id\n",
            "500120617\n",
            "Enter your roll no.\n",
            "54\n",
            "Enter your department\n",
            "eng\n",
            "Enter your course\n",
            "CS\n",
            "Name= Lakshya Lunkad  \n",
            " Sap Id= 500120617 \n",
            " Roll No= 54 \n",
            " Department= eng \n",
            " Course= CS\n"
          ]
        }
      ],
      "source": [
        "# @title Default title text\n",
        "name=input(\"Enter your name\\n\")\n",
        "sapid=int(input(\"Enter your Sap Id\\n\"))\n",
        "rollno=input(\"Enter your roll no.\\n\")\n",
        "Departement=input(\"Enter your department\\n\")\n",
        "Course=input(\"Enter your course\\n\")\n",
        "print('Name=',name,\"\\n\",'Sap Id=',sapid,\"\\n\",'Roll No=',rollno,\"\\n\",'Department=',Departement,\"\\n\",'Course=',Course)\n"
      ]
    },
    {
      "cell_type": "code",
      "source": [],
      "metadata": {
        "id": "dHD1ZI1ZIHoC"
      },
      "execution_count": null,
      "outputs": []
    }
  ]
}