{
  "nbformat": 4,
  "nbformat_minor": 0,
  "metadata": {
    "colab": {
      "provenance": [],
      "authorship_tag": "ABX9TyPYdBkNx9VVsvqw78NMiMqR",
      "include_colab_link": true
    },
    "kernelspec": {
      "name": "python3",
      "display_name": "Python 3"
    },
    "language_info": {
      "name": "python"
    }
  },
  "cells": [
    {
      "cell_type": "markdown",
      "metadata": {
        "id": "view-in-github",
        "colab_type": "text"
      },
      "source": [
        "<a href=\"https://colab.research.google.com/github/lakshyalunkad07/Python/blob/main/Arithmathic_Operator_Python.ipynb\" target=\"_parent\"><img src=\"https://colab.research.google.com/assets/colab-badge.svg\" alt=\"Open In Colab\"/></a>"
      ]
    },
    {
      "cell_type": "code",
      "execution_count": 4,
      "metadata": {
        "colab": {
          "base_uri": "https://localhost:8080/"
        },
        "id": "MTrDc-mf5_Ts",
        "outputId": "8bf81158-3bbe-41a1-d0d4-e4cf71de68d0"
      },
      "outputs": [
        {
          "output_type": "stream",
          "name": "stdout",
          "text": [
            "Enter the first variable\n",
            "20\n",
            "Enter the second variable\n",
            "30\n",
            "50.0\n",
            "-10.0\n",
            "600.0\n",
            "20.0\n",
            "0.6666666666666666\n",
            "0.0\n"
          ]
        }
      ],
      "source": [
        "a= float(input(\"Enter the first variable\\n\"))\n",
        "b= float(input(\"Enter the second variable\\n\"))\n",
        "c= a+b\n",
        "d= a-b\n",
        "e= a*b\n",
        "f= a%b\n",
        "g= a/b\n",
        "h= a//b\n",
        "\n",
        "print(c)\n",
        "print(d)\n",
        "print(e)\n",
        "print(f)\n",
        "print(g)\n",
        "print(h)"
      ]
    }
  ]
}