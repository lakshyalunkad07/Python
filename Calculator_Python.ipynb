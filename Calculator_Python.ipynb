{
  "nbformat": 4,
  "nbformat_minor": 0,
  "metadata": {
    "colab": {
      "provenance": [],
      "authorship_tag": "ABX9TyNrGav2BCGOMmOeUwQ/p49H",
      "include_colab_link": true
    },
    "kernelspec": {
      "name": "python3",
      "display_name": "Python 3"
    },
    "language_info": {
      "name": "python"
    }
  },
  "cells": [
    {
      "cell_type": "markdown",
      "metadata": {
        "id": "view-in-github",
        "colab_type": "text"
      },
      "source": [
        "<a href=\"https://colab.research.google.com/github/lakshyalunkad07/Python/blob/main/Calculator_Python.ipynb\" target=\"_parent\"><img src=\"https://colab.research.google.com/assets/colab-badge.svg\" alt=\"Open In Colab\"/></a>"
      ]
    },
    {
      "cell_type": "code",
      "execution_count": 17,
      "metadata": {
        "colab": {
          "base_uri": "https://localhost:8080/"
        },
        "id": "zoA72rFA9A8N",
        "outputId": "604f2125-2b65-4e12-dbfd-4e288985b078"
      },
      "outputs": [
        {
          "output_type": "stream",
          "name": "stdout",
          "text": [
            "Enter the First Number20\n",
            "Enter the Second Number30\n",
            "1.Addition\n",
            "\n",
            "2.Subtraction\n",
            "\n",
            "3.Multiplication\n",
            "\n",
            "4.Remainder\n",
            "\n",
            "5.Division\n",
            "\n",
            "6.Any\n",
            "\n",
            "7.<\n",
            "\n",
            "8.>\n",
            "\n",
            "9.==\n",
            "\n",
            "10.>=\n",
            "\n",
            "11.<=\n",
            "\n",
            "12.And Operator\n",
            "\n",
            "13.Or Operator\n",
            "\n",
            "14.Not Operator\n",
            "\n",
            "Enter the Operation no.14\n",
            "False\n"
          ]
        }
      ],
      "source": [
        "a= float(input(\"Enter the First Number\"))\n",
        "b= float(input(\"Enter the Second Number\"))\n",
        "print(\"1.Addition\\n\")\n",
        "print(\"2.Subtraction\\n\")\n",
        "print(\"3.Multiplication\\n\")\n",
        "print(\"4.Remainder\\n\")\n",
        "print(\"5.Division\\n\")\n",
        "print(\"6.Any\\n\")\n",
        "print(\"7.<\\n\")\n",
        "print(\"8.>\\n\")\n",
        "print(\"9.==\\n\")\n",
        "print(\"10.>=\\n\")\n",
        "print(\"11.<=\\n\")\n",
        "print(\"12.And Operator\\n\")\n",
        "print(\"13.Or Operator\\n\")\n",
        "print(\"14.Not Operator\\n\")\n",
        "c= int(input(\"Enter the Operation no.\"))\n",
        "if c==1:\n",
        "       d=a+b\n",
        "       print(d)\n",
        "elif c==2:\n",
        "       e=a-b\n",
        "       print(e)\n",
        "elif c==3:\n",
        "       f=a*b\n",
        "       print(f)\n",
        "elif c==4:\n",
        "       g=a%b\n",
        "       print(g)\n",
        "elif c==5:\n",
        "       h=a/b\n",
        "       print(h)\n",
        "elif c==6:\n",
        "       i=a//b\n",
        "       print(i)\n",
        "elif c==7:\n",
        "       j= a<b\n",
        "       print(j)\n",
        "elif c==8:\n",
        "       k= a>b\n",
        "       print(k)\n",
        "elif c==9:\n",
        "       l = a==b\n",
        "       print(l)\n",
        "elif c==10:\n",
        "       m= a >= b\n",
        "       print(m)\n",
        "elif c==11:\n",
        "       n= a <= b\n",
        "       print(n)\n",
        "elif c==12:\n",
        "       o=a>10 and b>10\n",
        "       print(o)\n",
        "elif c==13:\n",
        "       p=a>10 or b>10\n",
        "       print(p)\n",
        "else:\n",
        "       q= not(a>10 and b>10)\n",
        "       print(q)\n",
        "\n"
      ]
    },
    {
      "cell_type": "code",
      "source": [],
      "metadata": {
        "id": "CZ6PYuDjKXaq"
      },
      "execution_count": null,
      "outputs": []
    }
  ]
}