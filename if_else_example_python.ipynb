{
  "nbformat": 4,
  "nbformat_minor": 0,
  "metadata": {
    "colab": {
      "provenance": [],
      "authorship_tag": "ABX9TyPl4RmyS+KfsP44eU3Tm9DM",
      "include_colab_link": true
    },
    "kernelspec": {
      "name": "python3",
      "display_name": "Python 3"
    },
    "language_info": {
      "name": "python"
    }
  },
  "cells": [
    {
      "cell_type": "markdown",
      "metadata": {
        "id": "view-in-github",
        "colab_type": "text"
      },
      "source": [
        "<a href=\"https://colab.research.google.com/github/lakshyalunkad07/Python/blob/main/if_else_example_python.ipynb\" target=\"_parent\"><img src=\"https://colab.research.google.com/assets/colab-badge.svg\" alt=\"Open In Colab\"/></a>"
      ]
    },
    {
      "cell_type": "code",
      "execution_count": 15,
      "metadata": {
        "colab": {
          "base_uri": "https://localhost:8080/"
        },
        "id": "r6wa2Ra-u3lj",
        "outputId": "51e68182-1747-4c8e-ae72-6dcf04398868"
      },
      "outputs": [
        {
          "output_type": "stream",
          "name": "stdout",
          "text": [
            "Enter the number-->\n",
            "39\n",
            "The number is less than 40\n",
            "\n"
          ]
        }
      ],
      "source": [
        "temp=int(input(\"Enter the number-->\\n\"))\n",
        "\n",
        "if (temp < 40):\n",
        "  print(\"The number is less than 40\\n\")\n",
        "elif (temp==40):\n",
        "  print(\"The number is equal to 40\\n\")\n",
        "else:\n",
        "  print(\"The number is greater than 40\\n\")"
      ]
    }
  ]
}