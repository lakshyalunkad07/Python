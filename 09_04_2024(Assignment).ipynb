{
  "nbformat": 4,
  "nbformat_minor": 0,
  "metadata": {
    "colab": {
      "provenance": [],
      "authorship_tag": "ABX9TyNjB5RYtwAH+GcGiW21cXSy",
      "include_colab_link": true
    },
    "kernelspec": {
      "name": "python3",
      "display_name": "Python 3"
    },
    "language_info": {
      "name": "python"
    }
  },
  "cells": [
    {
      "cell_type": "markdown",
      "metadata": {
        "id": "view-in-github",
        "colab_type": "text"
      },
      "source": [
        "<a href=\"https://colab.research.google.com/github/lakshyalunkad07/Python/blob/main/09_04_2024(Assignment).ipynb\" target=\"_parent\"><img src=\"https://colab.research.google.com/assets/colab-badge.svg\" alt=\"Open In Colab\"/></a>"
      ]
    },
    {
      "cell_type": "code",
      "execution_count": 1,
      "metadata": {
        "colab": {
          "base_uri": "https://localhost:8080/"
        },
        "id": "q0tC5xhM_Nw1",
        "outputId": "26e8eb51-8348-4ad9-8e45-88b36d1bf857"
      },
      "outputs": [
        {
          "output_type": "stream",
          "name": "stdout",
          "text": [
            "       SapId    FName   LName Subject             Teacher  Marks\n",
            "0  500120615  Lakshya  Lunkad  Python  Sajid Syed Hussain     98\n",
            "1  500120616    Rohit  Sharma  Python  Sajid Syed Hussain     80\n",
            "2  500120617    Parth  Lunkad  Python  Sajid Syed Hussain     70\n",
            "3  500120618   Kartik   Verma  Python  Sajid Syed Hussain     30\n"
          ]
        }
      ],
      "source": [
        "import pandas as pd\n",
        "dataset={'SapId': ['500120615','500120616','500120617','500120618'],\n",
        "         'FName': ['Lakshya','Rohit','Parth','Kartik'],\n",
        "         'LName':['Lunkad','Sharma','Lunkad','Verma'],\n",
        "         'Subject':['Python','Python','Python','Python'],\n",
        "         'Teacher':['Sajid Syed Hussain','Sajid Syed Hussain','Sajid Syed Hussain','Sajid Syed Hussain'],\n",
        "         'Marks':[98,80,70,30]\n",
        "         }\n",
        "Details=pd.DataFrame(dataset)\n",
        "print(Details)"
      ]
    },
    {
      "cell_type": "markdown",
      "source": [
        "Your task is to create a circle  constructor that creates a circle with a radius provided by an argument.The circle comstructor must have two methods getArea()(PIr^2) and getPerimeter() (2PI*2) which give both respective areas and perimeter(Circumference)."
      ],
      "metadata": {
        "id": "4i04MW7-BSaQ"
      }
    },
    {
      "cell_type": "code",
      "source": [
        "class Circle:\n",
        "    def __init__(self, radius):\n",
        "        self.radius = radius\n",
        "    def getArea(self):\n",
        "        return(self.radius ** 2)\n",
        "    def getPerimeter(self):\n",
        "        return(2*self.radius)\n",
        "radius = float(input(\"Enter the radius of the circle: \"))\n",
        "circle = Circle(radius)\n",
        "print(\"Area of the circle:\", circle.getArea())\n",
        "print(\"Perimeter of the circle:\", circle.getPerimeter())\n"
      ],
      "metadata": {
        "colab": {
          "base_uri": "https://localhost:8080/"
        },
        "id": "ZzTYuz8AA5cD",
        "outputId": "7a914bda-bbc0-4487-8722-ca84e8074f68"
      },
      "execution_count": 2,
      "outputs": [
        {
          "output_type": "stream",
          "name": "stdout",
          "text": [
            "Enter the radius of the circle: 12\n",
            "Area of the circle: 144.0\n",
            "Perimeter of the circle: 24.0\n"
          ]
        }
      ]
    }
  ]
}